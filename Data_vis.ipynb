{
 "cells": [
  {
   "cell_type": "code",
   "execution_count": 1,
   "metadata": {},
   "outputs": [],
   "source": [
    "import pandas as pd "
   ]
  },
  {
   "cell_type": "code",
   "execution_count": 4,
   "metadata": {},
   "outputs": [],
   "source": [
    "df = pd.read_csv('ALL_Data.csv', index_col=0)"
   ]
  },
  {
   "cell_type": "code",
   "execution_count": 5,
   "metadata": {},
   "outputs": [
    {
     "data": {
      "text/html": [
       "<div>\n",
       "<style scoped>\n",
       "    .dataframe tbody tr th:only-of-type {\n",
       "        vertical-align: middle;\n",
       "    }\n",
       "\n",
       "    .dataframe tbody tr th {\n",
       "        vertical-align: top;\n",
       "    }\n",
       "\n",
       "    .dataframe thead th {\n",
       "        text-align: right;\n",
       "    }\n",
       "</style>\n",
       "<table border=\"1\" class=\"dataframe\">\n",
       "  <thead>\n",
       "    <tr style=\"text-align: right;\">\n",
       "      <th></th>\n",
       "      <th>Arabic</th>\n",
       "      <th>English</th>\n",
       "    </tr>\n",
       "  </thead>\n",
       "  <tbody>\n",
       "    <tr>\n",
       "      <th>0</th>\n",
       "      <td>تفريج الكروب فى تدبير الحروب</td>\n",
       "      <td>TAFRIJ AL-KURUB FI TADBIR AL-HURUBA Muslim Man...</td>\n",
       "    </tr>\n",
       "    <tr>\n",
       "      <th>1</th>\n",
       "      <td>مقدمة</td>\n",
       "      <td>INTRODUCTION</td>\n",
       "    </tr>\n",
       "    <tr>\n",
       "      <th>2</th>\n",
       "      <td>بسمِ الله الرحمنِ الرحيم.. مؤيد الإسلام من سلط...</td>\n",
       "      <td>IN THE NAME OF GOD, THE MERCIFUL, THE COMPASSI...</td>\n",
       "    </tr>\n",
       "    <tr>\n",
       "      <th>3</th>\n",
       "      <td>ومسعد جده العالى بإبادة أعدائه الطغاة المارقين...</td>\n",
       "      <td>And [he is] the cause of his noble sire’s happ...</td>\n",
       "    </tr>\n",
       "    <tr>\n",
       "      <th>4</th>\n",
       "      <td>وأشهد أن لا إله إلا الله وحده لا شريك له، شهاد...</td>\n",
       "      <td>I declare that there is no god but God alone, ...</td>\n",
       "    </tr>\n",
       "    <tr>\n",
       "      <th>...</th>\n",
       "      <td>...</td>\n",
       "      <td>...</td>\n",
       "    </tr>\n",
       "    <tr>\n",
       "      <th>102090</th>\n",
       "      <td>حدثنا عبد الرحمن بن إبراهيم، حدثنا الوليد بن م...</td>\n",
       "      <td>It was narrated from ‘Awf bin Malik Al-Ashja’...</td>\n",
       "    </tr>\n",
       "    <tr>\n",
       "      <th>102091</th>\n",
       "      <td>حدثنا أبو بكر بن أبي شيبة، حدثنا سفيان بن عيين...</td>\n",
       "      <td>It was narrated from Abu Hurairah conveying i...</td>\n",
       "    </tr>\n",
       "    <tr>\n",
       "      <th>102092</th>\n",
       "      <td>حدثنا أبو بكر بن أبي شيبة، حدثنا سفيان بن عيين...</td>\n",
       "      <td>It was narrated from Abu Hurairah that the Me...</td>\n",
       "    </tr>\n",
       "    <tr>\n",
       "      <th>102093</th>\n",
       "      <td>حدثنا أبو بكر بن أبي شيبة، حدثنا أسود بن عامر،...</td>\n",
       "      <td>It was narrated that ‘Amr bin Taghlib said:  ...</td>\n",
       "    </tr>\n",
       "    <tr>\n",
       "      <th>102094</th>\n",
       "      <td>حدثنا الحسن بن عرفة، حدثنا عمار بن محمد، عن ال...</td>\n",
       "      <td>It was narrated from Abu Sa’eed Al-Khudri tha...</td>\n",
       "    </tr>\n",
       "  </tbody>\n",
       "</table>\n",
       "<p>102095 rows × 2 columns</p>\n",
       "</div>"
      ],
      "text/plain": [
       "                                                   Arabic  \\\n",
       "0                            تفريج الكروب فى تدبير الحروب   \n",
       "1                                                   مقدمة   \n",
       "2       بسمِ الله الرحمنِ الرحيم.. مؤيد الإسلام من سلط...   \n",
       "3       ومسعد جده العالى بإبادة أعدائه الطغاة المارقين...   \n",
       "4       وأشهد أن لا إله إلا الله وحده لا شريك له، شهاد...   \n",
       "...                                                   ...   \n",
       "102090  حدثنا عبد الرحمن بن إبراهيم، حدثنا الوليد بن م...   \n",
       "102091  حدثنا أبو بكر بن أبي شيبة، حدثنا سفيان بن عيين...   \n",
       "102092  حدثنا أبو بكر بن أبي شيبة، حدثنا سفيان بن عيين...   \n",
       "102093  حدثنا أبو بكر بن أبي شيبة، حدثنا أسود بن عامر،...   \n",
       "102094  حدثنا الحسن بن عرفة، حدثنا عمار بن محمد، عن ال...   \n",
       "\n",
       "                                                  English  \n",
       "0       TAFRIJ AL-KURUB FI TADBIR AL-HURUBA Muslim Man...  \n",
       "1                                            INTRODUCTION  \n",
       "2       IN THE NAME OF GOD, THE MERCIFUL, THE COMPASSI...  \n",
       "3       And [he is] the cause of his noble sire’s happ...  \n",
       "4       I declare that there is no god but God alone, ...  \n",
       "...                                                   ...  \n",
       "102090   It was narrated from ‘Awf bin Malik Al-Ashja’...  \n",
       "102091   It was narrated from Abu Hurairah conveying i...  \n",
       "102092   It was narrated from Abu Hurairah that the Me...  \n",
       "102093   It was narrated that ‘Amr bin Taghlib said:  ...  \n",
       "102094   It was narrated from Abu Sa’eed Al-Khudri tha...  \n",
       "\n",
       "[102095 rows x 2 columns]"
      ]
     },
     "execution_count": 5,
     "metadata": {},
     "output_type": "execute_result"
    }
   ],
   "source": [
    "df"
   ]
  },
  {
   "cell_type": "code",
   "execution_count": null,
   "metadata": {},
   "outputs": [],
   "source": []
  }
 ],
 "metadata": {
  "kernelspec": {
   "display_name": "base",
   "language": "python",
   "name": "python3"
  },
  "language_info": {
   "codemirror_mode": {
    "name": "ipython",
    "version": 3
   },
   "file_extension": ".py",
   "mimetype": "text/x-python",
   "name": "python",
   "nbconvert_exporter": "python",
   "pygments_lexer": "ipython3",
   "version": "3.9.7"
  },
  "orig_nbformat": 4
 },
 "nbformat": 4,
 "nbformat_minor": 2
}
