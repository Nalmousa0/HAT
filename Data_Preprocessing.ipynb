{
 "cells": [
  {
   "cell_type": "code",
   "execution_count": null,
   "metadata": {},
   "outputs": [],
   "source": [
    "import pandas as pd\n",
    "import arabic_reshaper\n",
    "from unidecode import unidecode"
   ]
  },
  {
   "cell_type": "code",
   "execution_count": null,
   "metadata": {},
   "outputs": [],
   "source": [
    "def clean_arabic_text(text):\n",
    "    reshaped_text = arabic_reshaper.reshape(text)\n",
    "    cleaned_text = unidecode(reshaped_text)\n",
    "    cleaned_text = ' '.join(cleaned_text.split())\n",
    "    cleaned_text = cleaned_text.replace(\"-\", \" \")\n",
    "    cleaned_text = cleaned_text.replace(\"_\", \" \")\n",
    "    cleaned_text = cleaned_text.replace(\".\", \" \")\n",
    "    cleaned_text = cleaned_text.replace(\",\", \" \")\n",
    "    cleaned_text = cleaned_text.replace(\"؟\", \" \")\n",
    "    cleaned_text = cleaned_text.replace(\"!\", \" \")\n",
    "    cleaned_text = cleaned_text.replace(\"؛\", \" \")\n",
    "    cleaned_text = cleaned_text.replace(\":\", \" \")\n",
    "    return cleaned_text\n",
    "\n",
    "# Create a sample DataFrame\n",
    "data = {'Arabic_Text': ['مَرْحَبًا بِكُمْ', 'أهْلًا وَسَهْلًا', 'مرحبابكم']}\n",
    "df = pd.DataFrame(data)\n",
    "\n",
    "# Apply the cleaning function to the 'Arabic_Text' column\n",
    "df['Cleaned_Text'] = df['Arabic_Text'].apply(clean_arabic_text)\n",
    "\n",
    "print(df)\n"
   ]
  },
  {
   "cell_type": "code",
   "execution_count": null,
   "metadata": {},
   "outputs": [],
   "source": [
    "df = df[df[\"team\"].str.contains(\"Team 1\") == False]"
   ]
  }
 ],
 "metadata": {
  "kernelspec": {
   "display_name": "base",
   "language": "python",
   "name": "python3"
  },
  "language_info": {
   "name": "python",
   "version": "3.9.7"
  },
  "orig_nbformat": 4
 },
 "nbformat": 4,
 "nbformat_minor": 2
}
