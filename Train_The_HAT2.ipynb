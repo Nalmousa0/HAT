{
  "cells": [
    {
      "cell_type": "code",
      "execution_count": 1,
      "metadata": {
        "colab": {
          "base_uri": "https://localhost:8080/"
        },
        "id": "8LA6OcREag_C",
        "outputId": "ed764056-b088-4baa-e1ad-34c5258527b9"
      },
      "outputs": [
        {
          "name": "stdout",
          "output_type": "stream",
          "text": [
            "Requirement already satisfied: transformers in c:\\users\\nasser\\anaconda3\\lib\\site-packages (4.31.0)\n",
            "Requirement already satisfied: safetensors>=0.3.1 in c:\\users\\nasser\\anaconda3\\lib\\site-packages (from transformers) (0.3.2)\n",
            "Requirement already satisfied: packaging>=20.0 in c:\\users\\nasser\\anaconda3\\lib\\site-packages (from transformers) (21.0)\n"
          ]
        },
        {
          "name": "stderr",
          "output_type": "stream",
          "text": [
            "WARNING: Ignoring invalid distribution -rotobuf (c:\\users\\nasser\\anaconda3\\lib\\site-packages)\n",
            "WARNING: Ignoring invalid distribution -rotobuf (c:\\users\\nasser\\anaconda3\\lib\\site-packages)\n",
            "WARNING: Ignoring invalid distribution -rotobuf (c:\\users\\nasser\\anaconda3\\lib\\site-packages)\n",
            "WARNING: Ignoring invalid distribution -rotobuf (c:\\users\\nasser\\anaconda3\\lib\\site-packages)\n",
            "WARNING: Ignoring invalid distribution -rotobuf (c:\\users\\nasser\\anaconda3\\lib\\site-packages)\n",
            "WARNING: Ignoring invalid distribution -rotobuf (c:\\users\\nasser\\anaconda3\\lib\\site-packages)\n"
          ]
        },
        {
          "name": "stdout",
          "output_type": "stream",
          "text": [
            "Requirement already satisfied: numpy>=1.17 in c:\\users\\nasser\\anaconda3\\lib\\site-packages (from transformers) (1.25.2)\n",
            "Requirement already satisfied: tokenizers!=0.11.3,<0.14,>=0.11.1 in c:\\users\\nasser\\anaconda3\\lib\\site-packages (from transformers) (0.13.3)\n",
            "Requirement already satisfied: regex!=2019.12.17 in c:\\users\\nasser\\anaconda3\\lib\\site-packages (from transformers) (2021.8.3)\n",
            "Requirement already satisfied: tqdm>=4.27 in c:\\users\\nasser\\anaconda3\\lib\\site-packages (from transformers) (4.65.0)\n",
            "Requirement already satisfied: pyyaml>=5.1 in c:\\users\\nasser\\anaconda3\\lib\\site-packages (from transformers) (6.0)\n",
            "Requirement already satisfied: filelock in c:\\users\\nasser\\anaconda3\\lib\\site-packages (from transformers) (3.3.1)\n",
            "Requirement already satisfied: requests in c:\\users\\nasser\\anaconda3\\lib\\site-packages (from transformers) (2.28.0)\n",
            "Requirement already satisfied: huggingface-hub<1.0,>=0.14.1 in c:\\users\\nasser\\anaconda3\\lib\\site-packages (from transformers) (0.16.4)\n",
            "Requirement already satisfied: typing-extensions>=3.7.4.3 in c:\\users\\nasser\\anaconda3\\lib\\site-packages (from huggingface-hub<1.0,>=0.14.1->transformers) (4.5.0)\n",
            "Requirement already satisfied: fsspec in c:\\users\\nasser\\anaconda3\\lib\\site-packages (from huggingface-hub<1.0,>=0.14.1->transformers) (2021.10.1)\n",
            "Requirement already satisfied: pyparsing>=2.0.2 in c:\\users\\nasser\\anaconda3\\lib\\site-packages (from packaging>=20.0->transformers) (2.4.7)\n",
            "Requirement already satisfied: colorama in c:\\users\\nasser\\anaconda3\\lib\\site-packages (from tqdm>=4.27->transformers) (0.4.4)\n",
            "Requirement already satisfied: certifi>=2017.4.17 in c:\\users\\nasser\\anaconda3\\lib\\site-packages (from requests->transformers) (2022.12.7)\n",
            "Requirement already satisfied: idna<4,>=2.5 in c:\\users\\nasser\\anaconda3\\lib\\site-packages (from requests->transformers) (2.10)\n",
            "Requirement already satisfied: urllib3<1.27,>=1.21.1 in c:\\users\\nasser\\anaconda3\\lib\\site-packages (from requests->transformers) (1.26.15)\n",
            "Requirement already satisfied: charset-normalizer~=2.0.0 in c:\\users\\nasser\\anaconda3\\lib\\site-packages (from requests->transformers) (2.0.4)\n"
          ]
        }
      ],
      "source": [
        "!pip install transformers "
      ]
    },
    {
      "cell_type": "code",
      "execution_count": 2,
      "metadata": {
        "colab": {
          "base_uri": "https://localhost:8080/"
        },
        "id": "YyvNdFUjdLYv",
        "outputId": "1c7bc784-948b-47f8-f194-c8312f28ea31"
      },
      "outputs": [
        {
          "name": "stdout",
          "output_type": "stream",
          "text": [
            "Requirement already satisfied: sentencepiece in c:\\users\\nasser\\anaconda3\\lib\\site-packages (0.1.99)\n"
          ]
        },
        {
          "name": "stderr",
          "output_type": "stream",
          "text": [
            "WARNING: Ignoring invalid distribution -rotobuf (c:\\users\\nasser\\anaconda3\\lib\\site-packages)\n",
            "WARNING: Ignoring invalid distribution -rotobuf (c:\\users\\nasser\\anaconda3\\lib\\site-packages)\n",
            "WARNING: Ignoring invalid distribution -rotobuf (c:\\users\\nasser\\anaconda3\\lib\\site-packages)\n",
            "WARNING: Ignoring invalid distribution -rotobuf (c:\\users\\nasser\\anaconda3\\lib\\site-packages)\n",
            "WARNING: Ignoring invalid distribution -rotobuf (c:\\users\\nasser\\anaconda3\\lib\\site-packages)\n",
            "WARNING: Ignoring invalid distribution -rotobuf (c:\\users\\nasser\\anaconda3\\lib\\site-packages)\n"
          ]
        }
      ],
      "source": [
        "!pip install sentencepiece"
      ]
    },
    {
      "cell_type": "code",
      "execution_count": 3,
      "metadata": {
        "colab": {
          "base_uri": "https://localhost:8080/"
        },
        "id": "ndBCEcdUdRfB",
        "outputId": "a4c05ea0-6caa-4f01-d522-b4c349082631"
      },
      "outputs": [
        {
          "name": "stdout",
          "output_type": "stream",
          "text": [
            "Collecting sacremoses\n",
            "  Downloading sacremoses-0.0.53.tar.gz (880 kB)\n",
            "Requirement already satisfied: regex in c:\\users\\nasser\\anaconda3\\lib\\site-packages (from sacremoses) (2021.8.3)\n",
            "Requirement already satisfied: six in c:\\users\\nasser\\anaconda3\\lib\\site-packages (from sacremoses) (1.15.0)\n",
            "Requirement already satisfied: click in c:\\users\\nasser\\anaconda3\\lib\\site-packages (from sacremoses) (8.0.4)\n",
            "Requirement already satisfied: joblib in c:\\users\\nasser\\anaconda3\\lib\\site-packages (from sacremoses) (1.0.0)\n",
            "Requirement already satisfied: tqdm in c:\\users\\nasser\\anaconda3\\lib\\site-packages (from sacremoses) (4.65.0)\n",
            "Requirement already satisfied: colorama in c:\\users\\nasser\\anaconda3\\lib\\site-packages (from click->sacremoses) (0.4.4)\n",
            "Building wheels for collected packages: sacremoses\n",
            "  Building wheel for sacremoses (setup.py): started\n",
            "  Building wheel for sacremoses (setup.py): finished with status 'done'\n",
            "  Created wheel for sacremoses: filename=sacremoses-0.0.53-py3-none-any.whl size=895260 sha256=8a6ec4e7c025e61015bca0528350f79f1376b3f891d9de635e76480ddbc7cff4\n",
            "  Stored in directory: c:\\users\\nasser\\appdata\\local\\pip\\cache\\wheels\\12\\1c\\3d\\46cf06718d63a32ff798a89594b61e7f345ab6b36d909ce033\n",
            "Successfully built sacremoses\n",
            "Installing collected packages: sacremoses\n",
            "Successfully installed sacremoses-0.0.53\n"
          ]
        },
        {
          "name": "stderr",
          "output_type": "stream",
          "text": [
            "WARNING: Ignoring invalid distribution -rotobuf (c:\\users\\nasser\\anaconda3\\lib\\site-packages)\n",
            "WARNING: Ignoring invalid distribution -rotobuf (c:\\users\\nasser\\anaconda3\\lib\\site-packages)\n",
            "WARNING: Ignoring invalid distribution -rotobuf (c:\\users\\nasser\\anaconda3\\lib\\site-packages)\n",
            "WARNING: Ignoring invalid distribution -rotobuf (c:\\users\\nasser\\anaconda3\\lib\\site-packages)\n",
            "WARNING: Ignoring invalid distribution -rotobuf (c:\\users\\nasser\\anaconda3\\lib\\site-packages)\n",
            "WARNING: Ignoring invalid distribution -rotobuf (c:\\users\\nasser\\anaconda3\\lib\\site-packages)\n",
            "WARNING: Ignoring invalid distribution -rotobuf (c:\\users\\nasser\\anaconda3\\lib\\site-packages)\n"
          ]
        }
      ],
      "source": [
        "!pip install sacremoses"
      ]
    },
    {
      "cell_type": "code",
      "execution_count": 33,
      "metadata": {
        "id": "DajRx7zfaXI2"
      },
      "outputs": [],
      "source": [
        "import pandas as pd\n",
        "import torch\n",
        "from transformers import MarianMTModel, MarianTokenizer, AdamW\n",
        "from torch.utils.data import DataLoader, Dataset\n",
        "import sacremoses\n",
        "import sentencepiece\n"
      ]
    },
    {
      "cell_type": "code",
      "execution_count": 36,
      "metadata": {
        "id": "iFr1-6n7aXI5"
      },
      "outputs": [],
      "source": [
        "# Load your parallel corpus data into a pandas DataFrame\n",
        "data = pd.read_csv(\"https://raw.githubusercontent.com/NK-Z/HAT/main/Claned_data.csv\", index_col=0)  # Adapt the file name and structure\n",
        "\n",
        "# Define your fine-tuning dataset class\n",
        "class TranslationDataset(Dataset):\n",
        "    def __init__(self, dataframe, tokenizer):\n",
        "        self.data = dataframe\n",
        "        self.tokenizer = tokenizer\n",
        "\n",
        "    def __len__(self):\n",
        "        return len(self.data)\n",
        "\n",
        "    def __getitem__(self, idx):\n",
        "        source_text = self.data.iloc[idx][\"English\"]\n",
        "        target_text = self.data.iloc[idx][\"Arabic\"]\n",
        "\n",
        "        # Tokenize source and target sentences\n",
        "        source_tokens = self.tokenizer.encode(source_text, padding=\"max_length\", truncation=True, return_tensors=\"pt\")\n",
        "        target_tokens = self.tokenizer.encode(target_text, padding=\"max_length\", truncation=True, return_tensors=\"pt\")\n",
        "\n",
        "        return {\n",
        "            \"input_ids\": source_tokens.squeeze(),\n",
        "            \"attention_mask\": source_tokens.squeeze().gt(0),  # Create attention mask\n",
        "            \"labels\": target_tokens.squeeze(),\n",
        "        }"
      ]
    },
    {
      "cell_type": "code",
      "execution_count": 34,
      "metadata": {
        "id": "DyvMR15gJx-O"
      },
      "outputs": [],
      "source": [
        "device = torch.device(\"cuda\" if torch.cuda.is_available() else \"cpu\")"
      ]
    },
    {
      "cell_type": "code",
      "execution_count": 37,
      "metadata": {},
      "outputs": [
        {
          "data": {
            "text/html": [
              "<div>\n",
              "<style scoped>\n",
              "    .dataframe tbody tr th:only-of-type {\n",
              "        vertical-align: middle;\n",
              "    }\n",
              "\n",
              "    .dataframe tbody tr th {\n",
              "        vertical-align: top;\n",
              "    }\n",
              "\n",
              "    .dataframe thead th {\n",
              "        text-align: right;\n",
              "    }\n",
              "</style>\n",
              "<table border=\"1\" class=\"dataframe\">\n",
              "  <thead>\n",
              "    <tr style=\"text-align: right;\">\n",
              "      <th></th>\n",
              "      <th>Arabic</th>\n",
              "      <th>English</th>\n",
              "    </tr>\n",
              "  </thead>\n",
              "  <tbody>\n",
              "    <tr>\n",
              "      <th>0</th>\n",
              "      <td>ﺗﻔﺮﻳﺞ ﺍﻟﻜﺮﻭﺏ ﻓﻰ ﺗﺪﺑﻴﺮ ﺍﻟﺤﺮﻭﺏ</td>\n",
              "      <td>TAFRIJ AL-KURUB FI TADBIR AL-HURUBA Muslim Man...</td>\n",
              "    </tr>\n",
              "    <tr>\n",
              "      <th>1</th>\n",
              "      <td>ﻣﻘﺪﻣﺔ</td>\n",
              "      <td>INTRODUCTION</td>\n",
              "    </tr>\n",
              "    <tr>\n",
              "      <th>2</th>\n",
              "      <td>ﺑﺴﻢ ﷲ ﺍﻟﺮﺣﻤﻦ ﺍﻟﺮﺣﻴﻢ.. ﻣﺆﻳﺪ ﺍﻹﺳﻼﻡ ﻣﻦ ﺳﻠﻄﺎﻧﻪ ﺍﻟﻨ...</td>\n",
              "      <td>IN THE NAME OF GOD, THE MERCIFUL, THE COMPASSI...</td>\n",
              "    </tr>\n",
              "    <tr>\n",
              "      <th>3</th>\n",
              "      <td>ﻭﻣﺴﻌﺪ ﺟﺪﻩ ﺍﻟﻌﺎﻟﻰ ﺑﺈﺑﺎﺩﺓ ﺃﻋﺪﺍﺋﻪ ﺍﻟﻄﻐﺎﺓ ﺍﻟﻤﺎﺭﻗﻴﻦ...</td>\n",
              "      <td>And [he is] the cause of his noble sire’s happ...</td>\n",
              "    </tr>\n",
              "    <tr>\n",
              "      <th>4</th>\n",
              "      <td>ﻭﺃﺷﻬﺪ ﺃﻥ ﻻ ﺇﻟﻪ ﺇﻻ ﷲ ﻭﺣﺪﻩ ﻻ ﺷﺮﻳﻚ ﻟﻪ، ﺷﻬﺎﺩﺓ ﻳﺘﻮﺍ...</td>\n",
              "      <td>I declare that there is no god but God alone, ...</td>\n",
              "    </tr>\n",
              "    <tr>\n",
              "      <th>...</th>\n",
              "      <td>...</td>\n",
              "      <td>...</td>\n",
              "    </tr>\n",
              "    <tr>\n",
              "      <th>102090</th>\n",
              "      <td>ﺣﺪﺛﻨﺎ ﻋﺒﺪ ﺍﻟﺮﺣﻤﻦ ﺑﻦ ﺇﺑﺮﺍﻫﻴﻢ، ﺣﺪﺛﻨﺎ ﺍﻟﻮﻟﻴﺪ ﺑﻦ ﻣ...</td>\n",
              "      <td>It was narrated from ‘Awf bin Malik Al-Ashja’...</td>\n",
              "    </tr>\n",
              "    <tr>\n",
              "      <th>102091</th>\n",
              "      <td>ﺣﺪﺛﻨﺎ ﺃﺑﻮ ﺑﻜﺮ ﺑﻦ ﺃﺑﻲ ﺷﻴﺒﺔ، ﺣﺪﺛﻨﺎ ﺳﻔﻴﺎﻥ ﺑﻦ ﻋﻴﻴﻨ...</td>\n",
              "      <td>It was narrated from Abu Hurairah conveying i...</td>\n",
              "    </tr>\n",
              "    <tr>\n",
              "      <th>102092</th>\n",
              "      <td>ﺣﺪﺛﻨﺎ ﺃﺑﻮ ﺑﻜﺮ ﺑﻦ ﺃﺑﻲ ﺷﻴﺒﺔ، ﺣﺪﺛﻨﺎ ﺳﻔﻴﺎﻥ ﺑﻦ ﻋﻴﻴﻨ...</td>\n",
              "      <td>It was narrated from Abu Hurairah that the Me...</td>\n",
              "    </tr>\n",
              "    <tr>\n",
              "      <th>102093</th>\n",
              "      <td>ﺣﺪﺛﻨﺎ ﺃﺑﻮ ﺑﻜﺮ ﺑﻦ ﺃﺑﻲ ﺷﻴﺒﺔ، ﺣﺪﺛﻨﺎ ﺃﺳﻮﺩ ﺑﻦ ﻋﺎﻣﺮ،...</td>\n",
              "      <td>It was narrated that ‘Amr bin Taghlib said:  ...</td>\n",
              "    </tr>\n",
              "    <tr>\n",
              "      <th>102094</th>\n",
              "      <td>ﺣﺪﺛﻨﺎ ﺍﻟﺤﺴﻦ ﺑﻦ ﻋﺮﻓﺔ، ﺣﺪﺛﻨﺎ ﻋﻤﺎﺭ ﺑﻦ ﻣﺤﻤﺪ، ﻋﻦ ﺍﻷ...</td>\n",
              "      <td>It was narrated from Abu Sa’eed Al-Khudri tha...</td>\n",
              "    </tr>\n",
              "  </tbody>\n",
              "</table>\n",
              "<p>101701 rows × 2 columns</p>\n",
              "</div>"
            ],
            "text/plain": [
              "                                                   Arabic  \\\n",
              "0                            ﺗﻔﺮﻳﺞ ﺍﻟﻜﺮﻭﺏ ﻓﻰ ﺗﺪﺑﻴﺮ ﺍﻟﺤﺮﻭﺏ   \n",
              "1                                                   ﻣﻘﺪﻣﺔ   \n",
              "2       ﺑﺴﻢ ﷲ ﺍﻟﺮﺣﻤﻦ ﺍﻟﺮﺣﻴﻢ.. ﻣﺆﻳﺪ ﺍﻹﺳﻼﻡ ﻣﻦ ﺳﻠﻄﺎﻧﻪ ﺍﻟﻨ...   \n",
              "3       ﻭﻣﺴﻌﺪ ﺟﺪﻩ ﺍﻟﻌﺎﻟﻰ ﺑﺈﺑﺎﺩﺓ ﺃﻋﺪﺍﺋﻪ ﺍﻟﻄﻐﺎﺓ ﺍﻟﻤﺎﺭﻗﻴﻦ...   \n",
              "4       ﻭﺃﺷﻬﺪ ﺃﻥ ﻻ ﺇﻟﻪ ﺇﻻ ﷲ ﻭﺣﺪﻩ ﻻ ﺷﺮﻳﻚ ﻟﻪ، ﺷﻬﺎﺩﺓ ﻳﺘﻮﺍ...   \n",
              "...                                                   ...   \n",
              "102090  ﺣﺪﺛﻨﺎ ﻋﺒﺪ ﺍﻟﺮﺣﻤﻦ ﺑﻦ ﺇﺑﺮﺍﻫﻴﻢ، ﺣﺪﺛﻨﺎ ﺍﻟﻮﻟﻴﺪ ﺑﻦ ﻣ...   \n",
              "102091  ﺣﺪﺛﻨﺎ ﺃﺑﻮ ﺑﻜﺮ ﺑﻦ ﺃﺑﻲ ﺷﻴﺒﺔ، ﺣﺪﺛﻨﺎ ﺳﻔﻴﺎﻥ ﺑﻦ ﻋﻴﻴﻨ...   \n",
              "102092  ﺣﺪﺛﻨﺎ ﺃﺑﻮ ﺑﻜﺮ ﺑﻦ ﺃﺑﻲ ﺷﻴﺒﺔ، ﺣﺪﺛﻨﺎ ﺳﻔﻴﺎﻥ ﺑﻦ ﻋﻴﻴﻨ...   \n",
              "102093  ﺣﺪﺛﻨﺎ ﺃﺑﻮ ﺑﻜﺮ ﺑﻦ ﺃﺑﻲ ﺷﻴﺒﺔ، ﺣﺪﺛﻨﺎ ﺃﺳﻮﺩ ﺑﻦ ﻋﺎﻣﺮ،...   \n",
              "102094  ﺣﺪﺛﻨﺎ ﺍﻟﺤﺴﻦ ﺑﻦ ﻋﺮﻓﺔ، ﺣﺪﺛﻨﺎ ﻋﻤﺎﺭ ﺑﻦ ﻣﺤﻤﺪ، ﻋﻦ ﺍﻷ...   \n",
              "\n",
              "                                                  English  \n",
              "0       TAFRIJ AL-KURUB FI TADBIR AL-HURUBA Muslim Man...  \n",
              "1                                            INTRODUCTION  \n",
              "2       IN THE NAME OF GOD, THE MERCIFUL, THE COMPASSI...  \n",
              "3       And [he is] the cause of his noble sire’s happ...  \n",
              "4       I declare that there is no god but God alone, ...  \n",
              "...                                                   ...  \n",
              "102090   It was narrated from ‘Awf bin Malik Al-Ashja’...  \n",
              "102091   It was narrated from Abu Hurairah conveying i...  \n",
              "102092   It was narrated from Abu Hurairah that the Me...  \n",
              "102093   It was narrated that ‘Amr bin Taghlib said:  ...  \n",
              "102094   It was narrated from Abu Sa’eed Al-Khudri tha...  \n",
              "\n",
              "[101701 rows x 2 columns]"
            ]
          },
          "execution_count": 37,
          "metadata": {},
          "output_type": "execute_result"
        }
      ],
      "source": [
        "data"
      ]
    },
    {
      "cell_type": "code",
      "execution_count": 35,
      "metadata": {},
      "outputs": [],
      "source": [
        "# Load pretrained model and tokenizer for Arabic to English translation\n",
        "model_name = \"Helsinki-NLP/opus-mt-en-ar\"\n",
        "tokenizer = MarianTokenizer.from_pretrained(model_name)\n",
        "model = MarianMTModel.from_pretrained(model_name).to(device)"
      ]
    },
    {
      "cell_type": "code",
      "execution_count": 38,
      "metadata": {
        "colab": {
          "base_uri": "https://localhost:8080/",
          "height": 136,
          "referenced_widgets": [
            "096bc3c0f6bd4f40a843f8f14c59ed7d",
            "7c52fd1f94c649c28209359ea7337469",
            "4b6eb5d714e14d5f8e6fc3825df99f66",
            "5fb7a91620c841fc94b76f72c4bb21e1",
            "5663452e4e574043add266c6d8bbdda1",
            "0affac929f784654a7a42abd725c1f22",
            "f6b9de41f6fb4bf29f699ae5f53b0f87",
            "ecad23ae47534bdcbe4254b740e996f8",
            "8d76b65cefa44e80bdde2db3b0110339",
            "a05307a5094d4039b8d892a6cca41147",
            "42a133676a4a4d99b1c9ecb70758f94e",
            "23071e42b1cb44ce83de3863469d3ae9",
            "fe95d1bd5cb6495aa5b0cb0189b4295e",
            "a70883cb8aab432184c6a44b62e5c017",
            "fd6194fce855408387fcb0e14471264b",
            "dbd9345af21d4b2a8dba3d24b12720d7",
            "26f08710e0464b1788d600fcba42ad89",
            "2e43f7183b43451a859b0b70267d2d1b",
            "670f498f88664a55b9407defd8753867",
            "68d872fe6ec049548a483e9b18edbdf6",
            "7c6d78e0836944ba98c696be266cf2bc",
            "ad097aac770542d18898cf616d348ce9"
          ]
        },
        "id": "Q9iJdriiaXI9",
        "outputId": "91c4ce57-3d07-46a6-b41f-0a6e57090dff"
      },
      "outputs": [
        {
          "name": "stderr",
          "output_type": "stream",
          "text": [
            "c:\\Users\\Nasser\\anaconda3\\lib\\site-packages\\transformers\\optimization.py:411: FutureWarning: This implementation of AdamW is deprecated and will be removed in a future version. Use the PyTorch implementation torch.optim.AdamW instead, or set `no_deprecation_warning=True` to disable this warning\n",
            "  warnings.warn(\n"
          ]
        }
      ],
      "source": [
        "# Load pretrained model and tokenizer for Arabic to English translation\n",
        "model_name = \"Helsinki-NLP/opus-mt-en-ar\"\n",
        "tokenizer = MarianTokenizer.from_pretrained(model_name)\n",
        "model = MarianMTModel.from_pretrained(model_name).to(device)\n",
        "\n",
        "# Create fine-tuning dataset and dataloader\n",
        "train_dataset = TranslationDataset(data, tokenizer)\n",
        "train_dataloader = DataLoader(train_dataset, batch_size=8, shuffle=True)\n",
        "\n",
        "# Define optimizer and loss function\n",
        "optimizer = AdamW(model.parameters(), lr=1e-5)\n",
        "loss_fn = torch.nn.CrossEntropyLoss() "
      ]
    },
    {
      "cell_type": "code",
      "execution_count": 39,
      "metadata": {
        "colab": {
          "base_uri": "https://localhost:8080/"
        },
        "id": "vULQdBVqaXI_",
        "outputId": "6d26350c-fb15-4398-852f-308e41301ee7"
      },
      "outputs": [
        {
          "name": "stdout",
          "output_type": "stream",
          "text": [
            "Epoch [1/1] - Batch Loss: 7.6465\n",
            "Epoch [1/1] - Batch Loss: 7.1134\n",
            "Epoch [1/1] - Batch Loss: 6.3100\n",
            "Epoch [1/1] - Batch Loss: 5.5113\n",
            "Epoch [1/1] - Batch Loss: 5.1814\n",
            "Epoch [1/1] - Batch Loss: 4.6364\n",
            "Epoch [1/1] - Batch Loss: 3.9388\n",
            "Epoch [1/1] - Batch Loss: 3.5361\n",
            "Epoch [1/1] - Batch Loss: 3.0605\n",
            "Epoch [1/1] - Batch Loss: 2.1867\n",
            "Epoch [1/1] - Batch Loss: 2.1195\n",
            "Epoch [1/1] - Batch Loss: 2.1259\n",
            "Epoch [1/1] - Batch Loss: 1.6392\n",
            "Epoch [1/1] - Batch Loss: 1.9548\n",
            "Epoch [1/1] - Batch Loss: 2.1534\n",
            "Epoch [1/1] - Batch Loss: 1.9185\n",
            "Epoch [1/1] - Batch Loss: 1.7422\n",
            "Epoch [1/1] - Batch Loss: 1.5592\n",
            "Epoch [1/1] - Batch Loss: 1.2508\n"
          ]
        },
        {
          "ename": "KeyboardInterrupt",
          "evalue": "",
          "output_type": "error",
          "traceback": [
            "\u001b[1;31m---------------------------------------------------------------------------\u001b[0m",
            "\u001b[1;31mKeyboardInterrupt\u001b[0m                         Traceback (most recent call last)",
            "\u001b[1;32m~\\AppData\\Local\\Temp/ipykernel_4588/1179958303.py\u001b[0m in \u001b[0;36m<module>\u001b[1;34m\u001b[0m\n\u001b[0;32m     16\u001b[0m \u001b[1;33m\u001b[0m\u001b[0m\n\u001b[0;32m     17\u001b[0m         \u001b[0moptimizer\u001b[0m\u001b[1;33m.\u001b[0m\u001b[0mzero_grad\u001b[0m\u001b[1;33m(\u001b[0m\u001b[1;33m)\u001b[0m\u001b[1;33m\u001b[0m\u001b[1;33m\u001b[0m\u001b[0m\n\u001b[1;32m---> 18\u001b[1;33m         \u001b[0mloss\u001b[0m\u001b[1;33m.\u001b[0m\u001b[0mbackward\u001b[0m\u001b[1;33m(\u001b[0m\u001b[1;33m)\u001b[0m\u001b[1;33m\u001b[0m\u001b[1;33m\u001b[0m\u001b[0m\n\u001b[0m\u001b[0;32m     19\u001b[0m         \u001b[0moptimizer\u001b[0m\u001b[1;33m.\u001b[0m\u001b[0mstep\u001b[0m\u001b[1;33m(\u001b[0m\u001b[1;33m)\u001b[0m\u001b[1;33m\u001b[0m\u001b[1;33m\u001b[0m\u001b[0m\n\u001b[0;32m     20\u001b[0m \u001b[1;33m\u001b[0m\u001b[0m\n",
            "\u001b[1;32mc:\\Users\\Nasser\\anaconda3\\lib\\site-packages\\torch\\_tensor.py\u001b[0m in \u001b[0;36mbackward\u001b[1;34m(self, gradient, retain_graph, create_graph, inputs)\u001b[0m\n\u001b[0;32m    485\u001b[0m                 \u001b[0minputs\u001b[0m\u001b[1;33m=\u001b[0m\u001b[0minputs\u001b[0m\u001b[1;33m,\u001b[0m\u001b[1;33m\u001b[0m\u001b[1;33m\u001b[0m\u001b[0m\n\u001b[0;32m    486\u001b[0m             )\n\u001b[1;32m--> 487\u001b[1;33m         torch.autograd.backward(\n\u001b[0m\u001b[0;32m    488\u001b[0m             \u001b[0mself\u001b[0m\u001b[1;33m,\u001b[0m \u001b[0mgradient\u001b[0m\u001b[1;33m,\u001b[0m \u001b[0mretain_graph\u001b[0m\u001b[1;33m,\u001b[0m \u001b[0mcreate_graph\u001b[0m\u001b[1;33m,\u001b[0m \u001b[0minputs\u001b[0m\u001b[1;33m=\u001b[0m\u001b[0minputs\u001b[0m\u001b[1;33m\u001b[0m\u001b[1;33m\u001b[0m\u001b[0m\n\u001b[0;32m    489\u001b[0m         )\n",
            "\u001b[1;32mc:\\Users\\Nasser\\anaconda3\\lib\\site-packages\\torch\\autograd\\__init__.py\u001b[0m in \u001b[0;36mbackward\u001b[1;34m(tensors, grad_tensors, retain_graph, create_graph, grad_variables, inputs)\u001b[0m\n\u001b[0;32m    198\u001b[0m     \u001b[1;31m# some Python versions print out the first line of a multi-line function\u001b[0m\u001b[1;33m\u001b[0m\u001b[1;33m\u001b[0m\u001b[0m\n\u001b[0;32m    199\u001b[0m     \u001b[1;31m# calls in the traceback and some print out the last line\u001b[0m\u001b[1;33m\u001b[0m\u001b[1;33m\u001b[0m\u001b[0m\n\u001b[1;32m--> 200\u001b[1;33m     Variable._execution_engine.run_backward(  # Calls into the C++ engine to run the backward pass\n\u001b[0m\u001b[0;32m    201\u001b[0m         \u001b[0mtensors\u001b[0m\u001b[1;33m,\u001b[0m \u001b[0mgrad_tensors_\u001b[0m\u001b[1;33m,\u001b[0m \u001b[0mretain_graph\u001b[0m\u001b[1;33m,\u001b[0m \u001b[0mcreate_graph\u001b[0m\u001b[1;33m,\u001b[0m \u001b[0minputs\u001b[0m\u001b[1;33m,\u001b[0m\u001b[1;33m\u001b[0m\u001b[1;33m\u001b[0m\u001b[0m\n\u001b[0;32m    202\u001b[0m         allow_unreachable=True, accumulate_grad=True)  # Calls into the C++ engine to run the backward pass\n",
            "\u001b[1;31mKeyboardInterrupt\u001b[0m: "
          ]
        }
      ],
      "source": [
        "num_epochs = 1\n",
        "best_loss = float('inf')  # Initialize with a high value\n",
        "\n",
        "for epoch in range(num_epochs):\n",
        "    model.train()\n",
        "    total_loss = 0\n",
        "\n",
        "    for batch in train_dataloader:\n",
        "        input_ids = batch[\"input_ids\"].to(device)\n",
        "        attention_mask = batch[\"attention_mask\"].to(device)\n",
        "        labels = batch[\"labels\"].to(device)\n",
        "\n",
        "        outputs = model(input_ids=input_ids, attention_mask=attention_mask, labels=labels)\n",
        "        loss = outputs.loss\n",
        "        total_loss += loss.item()\n",
        "\n",
        "        optimizer.zero_grad()\n",
        "        loss.backward()\n",
        "        optimizer.step()\n",
        "\n",
        "        print(f'Epoch [{epoch+1}/{num_epochs}] - Batch Loss: {loss.item():.4f}')\n",
        "\n",
        "    average_loss = total_loss / len(train_dataloader)\n",
        "    print(f\"Epoch [{epoch+1}/{num_epochs}] - Average Loss: {average_loss:.4f}\")\n",
        "\n",
        "    # Save the best model based on training loss\n",
        "    if average_loss < best_loss:\n",
        "        best_loss = average_loss\n",
        "        model.save_pretrained(\"best_model\")\n",
        "\n",
        "print(\"Training finished.\")"
      ]
    },
    {
      "cell_type": "code",
      "execution_count": 5,
      "metadata": {},
      "outputs": [],
      "source": [
        "my_model = MarianMTModel.from_pretrained('model')"
      ]
    },
    {
      "cell_type": "code",
      "execution_count": 6,
      "metadata": {},
      "outputs": [],
      "source": [
        "my_model_2 = MarianMTModel.from_pretrained('Model_2')"
      ]
    },
    {
      "cell_type": "code",
      "execution_count": 172,
      "metadata": {
        "id": "0egfC82EaXJA"
      },
      "outputs": [],
      "source": [
        "# Inference function\n",
        "def translate_english__to_arabic(input_text):\n",
        "    input_text = [input_text]\n",
        "    input_ids = tokenizer(input_text, return_tensors=\"pt\").input_ids.to(device)\n",
        "    translated_ids = my_model_2.generate(input_ids, max_length=len(str(input_text))+20, num_beams=100, early_stopping=True, no_repeat_ngram_size=2).to(device)\n",
        "    translated_text = tokenizer.decode(translated_ids[0], skip_special_tokens=True)\n",
        "    return translated_text"
      ]
    },
    {
      "cell_type": "code",
      "execution_count": 174,
      "metadata": {
        "id": "6IR-VOvvaXJC"
      },
      "outputs": [
        {
          "name": "stdout",
          "output_type": "stream",
          "text": [
            "Input:  They fought until they gave up\n",
            "Translated:  فقاتلوا حت إلى أَن يَتَرَكَهُم\n"
          ]
        }
      ],
      "source": [
        "# Example usage\n",
        "input_text = \"They fought until they gave up\"\n",
        "translated_text = translate_english__to_arabic(input_text)\n",
        "print(\"Input: \", input_text)\n",
        "print(\"Translated: \", translated_text)"
      ]
    },
    {
      "cell_type": "code",
      "execution_count": null,
      "metadata": {
        "id": "wfr99Kd1PNLU"
      },
      "outputs": [],
      "source": [
        "from google.colab import drive\n",
        "drive.mount('/content/drive')\n",
        "\n",
        "# Save your model\n",
        "model.save_pretrained('/content/drive/My Drive/best_model_2.h5')"
      ]
    }
  ],
  "metadata": {
    "accelerator": "GPU",
    "colab": {
      "gpuType": "T4",
      "provenance": []
    },
    "kernelspec": {
      "display_name": "Python 3",
      "name": "python3"
    },
    "language_info": {
      "codemirror_mode": {
        "name": "ipython",
        "version": 3
      },
      "file_extension": ".py",
      "mimetype": "text/x-python",
      "name": "python",
      "nbconvert_exporter": "python",
      "pygments_lexer": "ipython3",
      "version": "3.9.7"
    },
    "orig_nbformat": 4,
    "widgets": {
      "application/vnd.jupyter.widget-state+json": {
        "096bc3c0f6bd4f40a843f8f14c59ed7d": {
          "model_module": "@jupyter-widgets/controls",
          "model_module_version": "1.5.0",
          "model_name": "HBoxModel",
          "state": {
            "_dom_classes": [],
            "_model_module": "@jupyter-widgets/controls",
            "_model_module_version": "1.5.0",
            "_model_name": "HBoxModel",
            "_view_count": null,
            "_view_module": "@jupyter-widgets/controls",
            "_view_module_version": "1.5.0",
            "_view_name": "HBoxView",
            "box_style": "",
            "children": [
              "IPY_MODEL_7c52fd1f94c649c28209359ea7337469",
              "IPY_MODEL_4b6eb5d714e14d5f8e6fc3825df99f66",
              "IPY_MODEL_5fb7a91620c841fc94b76f72c4bb21e1"
            ],
            "layout": "IPY_MODEL_5663452e4e574043add266c6d8bbdda1"
          }
        },
        "0affac929f784654a7a42abd725c1f22": {
          "model_module": "@jupyter-widgets/base",
          "model_module_version": "1.2.0",
          "model_name": "LayoutModel",
          "state": {
            "_model_module": "@jupyter-widgets/base",
            "_model_module_version": "1.2.0",
            "_model_name": "LayoutModel",
            "_view_count": null,
            "_view_module": "@jupyter-widgets/base",
            "_view_module_version": "1.2.0",
            "_view_name": "LayoutView",
            "align_content": null,
            "align_items": null,
            "align_self": null,
            "border": null,
            "bottom": null,
            "display": null,
            "flex": null,
            "flex_flow": null,
            "grid_area": null,
            "grid_auto_columns": null,
            "grid_auto_flow": null,
            "grid_auto_rows": null,
            "grid_column": null,
            "grid_gap": null,
            "grid_row": null,
            "grid_template_areas": null,
            "grid_template_columns": null,
            "grid_template_rows": null,
            "height": null,
            "justify_content": null,
            "justify_items": null,
            "left": null,
            "margin": null,
            "max_height": null,
            "max_width": null,
            "min_height": null,
            "min_width": null,
            "object_fit": null,
            "object_position": null,
            "order": null,
            "overflow": null,
            "overflow_x": null,
            "overflow_y": null,
            "padding": null,
            "right": null,
            "top": null,
            "visibility": null,
            "width": null
          }
        },
        "23071e42b1cb44ce83de3863469d3ae9": {
          "model_module": "@jupyter-widgets/controls",
          "model_module_version": "1.5.0",
          "model_name": "HBoxModel",
          "state": {
            "_dom_classes": [],
            "_model_module": "@jupyter-widgets/controls",
            "_model_module_version": "1.5.0",
            "_model_name": "HBoxModel",
            "_view_count": null,
            "_view_module": "@jupyter-widgets/controls",
            "_view_module_version": "1.5.0",
            "_view_name": "HBoxView",
            "box_style": "",
            "children": [
              "IPY_MODEL_fe95d1bd5cb6495aa5b0cb0189b4295e",
              "IPY_MODEL_a70883cb8aab432184c6a44b62e5c017",
              "IPY_MODEL_fd6194fce855408387fcb0e14471264b"
            ],
            "layout": "IPY_MODEL_dbd9345af21d4b2a8dba3d24b12720d7"
          }
        },
        "26f08710e0464b1788d600fcba42ad89": {
          "model_module": "@jupyter-widgets/base",
          "model_module_version": "1.2.0",
          "model_name": "LayoutModel",
          "state": {
            "_model_module": "@jupyter-widgets/base",
            "_model_module_version": "1.2.0",
            "_model_name": "LayoutModel",
            "_view_count": null,
            "_view_module": "@jupyter-widgets/base",
            "_view_module_version": "1.2.0",
            "_view_name": "LayoutView",
            "align_content": null,
            "align_items": null,
            "align_self": null,
            "border": null,
            "bottom": null,
            "display": null,
            "flex": null,
            "flex_flow": null,
            "grid_area": null,
            "grid_auto_columns": null,
            "grid_auto_flow": null,
            "grid_auto_rows": null,
            "grid_column": null,
            "grid_gap": null,
            "grid_row": null,
            "grid_template_areas": null,
            "grid_template_columns": null,
            "grid_template_rows": null,
            "height": null,
            "justify_content": null,
            "justify_items": null,
            "left": null,
            "margin": null,
            "max_height": null,
            "max_width": null,
            "min_height": null,
            "min_width": null,
            "object_fit": null,
            "object_position": null,
            "order": null,
            "overflow": null,
            "overflow_x": null,
            "overflow_y": null,
            "padding": null,
            "right": null,
            "top": null,
            "visibility": null,
            "width": null
          }
        },
        "2e43f7183b43451a859b0b70267d2d1b": {
          "model_module": "@jupyter-widgets/controls",
          "model_module_version": "1.5.0",
          "model_name": "DescriptionStyleModel",
          "state": {
            "_model_module": "@jupyter-widgets/controls",
            "_model_module_version": "1.5.0",
            "_model_name": "DescriptionStyleModel",
            "_view_count": null,
            "_view_module": "@jupyter-widgets/base",
            "_view_module_version": "1.2.0",
            "_view_name": "StyleView",
            "description_width": ""
          }
        },
        "42a133676a4a4d99b1c9ecb70758f94e": {
          "model_module": "@jupyter-widgets/controls",
          "model_module_version": "1.5.0",
          "model_name": "DescriptionStyleModel",
          "state": {
            "_model_module": "@jupyter-widgets/controls",
            "_model_module_version": "1.5.0",
            "_model_name": "DescriptionStyleModel",
            "_view_count": null,
            "_view_module": "@jupyter-widgets/base",
            "_view_module_version": "1.2.0",
            "_view_name": "StyleView",
            "description_width": ""
          }
        },
        "4b6eb5d714e14d5f8e6fc3825df99f66": {
          "model_module": "@jupyter-widgets/controls",
          "model_module_version": "1.5.0",
          "model_name": "FloatProgressModel",
          "state": {
            "_dom_classes": [],
            "_model_module": "@jupyter-widgets/controls",
            "_model_module_version": "1.5.0",
            "_model_name": "FloatProgressModel",
            "_view_count": null,
            "_view_module": "@jupyter-widgets/controls",
            "_view_module_version": "1.5.0",
            "_view_name": "ProgressView",
            "bar_style": "success",
            "description": "",
            "description_tooltip": null,
            "layout": "IPY_MODEL_ecad23ae47534bdcbe4254b740e996f8",
            "max": 307574661,
            "min": 0,
            "orientation": "horizontal",
            "style": "IPY_MODEL_8d76b65cefa44e80bdde2db3b0110339",
            "value": 307574661
          }
        },
        "5663452e4e574043add266c6d8bbdda1": {
          "model_module": "@jupyter-widgets/base",
          "model_module_version": "1.2.0",
          "model_name": "LayoutModel",
          "state": {
            "_model_module": "@jupyter-widgets/base",
            "_model_module_version": "1.2.0",
            "_model_name": "LayoutModel",
            "_view_count": null,
            "_view_module": "@jupyter-widgets/base",
            "_view_module_version": "1.2.0",
            "_view_name": "LayoutView",
            "align_content": null,
            "align_items": null,
            "align_self": null,
            "border": null,
            "bottom": null,
            "display": null,
            "flex": null,
            "flex_flow": null,
            "grid_area": null,
            "grid_auto_columns": null,
            "grid_auto_flow": null,
            "grid_auto_rows": null,
            "grid_column": null,
            "grid_gap": null,
            "grid_row": null,
            "grid_template_areas": null,
            "grid_template_columns": null,
            "grid_template_rows": null,
            "height": null,
            "justify_content": null,
            "justify_items": null,
            "left": null,
            "margin": null,
            "max_height": null,
            "max_width": null,
            "min_height": null,
            "min_width": null,
            "object_fit": null,
            "object_position": null,
            "order": null,
            "overflow": null,
            "overflow_x": null,
            "overflow_y": null,
            "padding": null,
            "right": null,
            "top": null,
            "visibility": null,
            "width": null
          }
        },
        "5fb7a91620c841fc94b76f72c4bb21e1": {
          "model_module": "@jupyter-widgets/controls",
          "model_module_version": "1.5.0",
          "model_name": "HTMLModel",
          "state": {
            "_dom_classes": [],
            "_model_module": "@jupyter-widgets/controls",
            "_model_module_version": "1.5.0",
            "_model_name": "HTMLModel",
            "_view_count": null,
            "_view_module": "@jupyter-widgets/controls",
            "_view_module_version": "1.5.0",
            "_view_name": "HTMLView",
            "description": "",
            "description_tooltip": null,
            "layout": "IPY_MODEL_a05307a5094d4039b8d892a6cca41147",
            "placeholder": "​",
            "style": "IPY_MODEL_42a133676a4a4d99b1c9ecb70758f94e",
            "value": " 308M/308M [00:02&lt;00:00, 186MB/s]"
          }
        },
        "670f498f88664a55b9407defd8753867": {
          "model_module": "@jupyter-widgets/base",
          "model_module_version": "1.2.0",
          "model_name": "LayoutModel",
          "state": {
            "_model_module": "@jupyter-widgets/base",
            "_model_module_version": "1.2.0",
            "_model_name": "LayoutModel",
            "_view_count": null,
            "_view_module": "@jupyter-widgets/base",
            "_view_module_version": "1.2.0",
            "_view_name": "LayoutView",
            "align_content": null,
            "align_items": null,
            "align_self": null,
            "border": null,
            "bottom": null,
            "display": null,
            "flex": null,
            "flex_flow": null,
            "grid_area": null,
            "grid_auto_columns": null,
            "grid_auto_flow": null,
            "grid_auto_rows": null,
            "grid_column": null,
            "grid_gap": null,
            "grid_row": null,
            "grid_template_areas": null,
            "grid_template_columns": null,
            "grid_template_rows": null,
            "height": null,
            "justify_content": null,
            "justify_items": null,
            "left": null,
            "margin": null,
            "max_height": null,
            "max_width": null,
            "min_height": null,
            "min_width": null,
            "object_fit": null,
            "object_position": null,
            "order": null,
            "overflow": null,
            "overflow_x": null,
            "overflow_y": null,
            "padding": null,
            "right": null,
            "top": null,
            "visibility": null,
            "width": null
          }
        },
        "68d872fe6ec049548a483e9b18edbdf6": {
          "model_module": "@jupyter-widgets/controls",
          "model_module_version": "1.5.0",
          "model_name": "ProgressStyleModel",
          "state": {
            "_model_module": "@jupyter-widgets/controls",
            "_model_module_version": "1.5.0",
            "_model_name": "ProgressStyleModel",
            "_view_count": null,
            "_view_module": "@jupyter-widgets/base",
            "_view_module_version": "1.2.0",
            "_view_name": "StyleView",
            "bar_color": null,
            "description_width": ""
          }
        },
        "7c52fd1f94c649c28209359ea7337469": {
          "model_module": "@jupyter-widgets/controls",
          "model_module_version": "1.5.0",
          "model_name": "HTMLModel",
          "state": {
            "_dom_classes": [],
            "_model_module": "@jupyter-widgets/controls",
            "_model_module_version": "1.5.0",
            "_model_name": "HTMLModel",
            "_view_count": null,
            "_view_module": "@jupyter-widgets/controls",
            "_view_module_version": "1.5.0",
            "_view_name": "HTMLView",
            "description": "",
            "description_tooltip": null,
            "layout": "IPY_MODEL_0affac929f784654a7a42abd725c1f22",
            "placeholder": "​",
            "style": "IPY_MODEL_f6b9de41f6fb4bf29f699ae5f53b0f87",
            "value": "Downloading pytorch_model.bin: 100%"
          }
        },
        "7c6d78e0836944ba98c696be266cf2bc": {
          "model_module": "@jupyter-widgets/base",
          "model_module_version": "1.2.0",
          "model_name": "LayoutModel",
          "state": {
            "_model_module": "@jupyter-widgets/base",
            "_model_module_version": "1.2.0",
            "_model_name": "LayoutModel",
            "_view_count": null,
            "_view_module": "@jupyter-widgets/base",
            "_view_module_version": "1.2.0",
            "_view_name": "LayoutView",
            "align_content": null,
            "align_items": null,
            "align_self": null,
            "border": null,
            "bottom": null,
            "display": null,
            "flex": null,
            "flex_flow": null,
            "grid_area": null,
            "grid_auto_columns": null,
            "grid_auto_flow": null,
            "grid_auto_rows": null,
            "grid_column": null,
            "grid_gap": null,
            "grid_row": null,
            "grid_template_areas": null,
            "grid_template_columns": null,
            "grid_template_rows": null,
            "height": null,
            "justify_content": null,
            "justify_items": null,
            "left": null,
            "margin": null,
            "max_height": null,
            "max_width": null,
            "min_height": null,
            "min_width": null,
            "object_fit": null,
            "object_position": null,
            "order": null,
            "overflow": null,
            "overflow_x": null,
            "overflow_y": null,
            "padding": null,
            "right": null,
            "top": null,
            "visibility": null,
            "width": null
          }
        },
        "8d76b65cefa44e80bdde2db3b0110339": {
          "model_module": "@jupyter-widgets/controls",
          "model_module_version": "1.5.0",
          "model_name": "ProgressStyleModel",
          "state": {
            "_model_module": "@jupyter-widgets/controls",
            "_model_module_version": "1.5.0",
            "_model_name": "ProgressStyleModel",
            "_view_count": null,
            "_view_module": "@jupyter-widgets/base",
            "_view_module_version": "1.2.0",
            "_view_name": "StyleView",
            "bar_color": null,
            "description_width": ""
          }
        },
        "a05307a5094d4039b8d892a6cca41147": {
          "model_module": "@jupyter-widgets/base",
          "model_module_version": "1.2.0",
          "model_name": "LayoutModel",
          "state": {
            "_model_module": "@jupyter-widgets/base",
            "_model_module_version": "1.2.0",
            "_model_name": "LayoutModel",
            "_view_count": null,
            "_view_module": "@jupyter-widgets/base",
            "_view_module_version": "1.2.0",
            "_view_name": "LayoutView",
            "align_content": null,
            "align_items": null,
            "align_self": null,
            "border": null,
            "bottom": null,
            "display": null,
            "flex": null,
            "flex_flow": null,
            "grid_area": null,
            "grid_auto_columns": null,
            "grid_auto_flow": null,
            "grid_auto_rows": null,
            "grid_column": null,
            "grid_gap": null,
            "grid_row": null,
            "grid_template_areas": null,
            "grid_template_columns": null,
            "grid_template_rows": null,
            "height": null,
            "justify_content": null,
            "justify_items": null,
            "left": null,
            "margin": null,
            "max_height": null,
            "max_width": null,
            "min_height": null,
            "min_width": null,
            "object_fit": null,
            "object_position": null,
            "order": null,
            "overflow": null,
            "overflow_x": null,
            "overflow_y": null,
            "padding": null,
            "right": null,
            "top": null,
            "visibility": null,
            "width": null
          }
        },
        "a70883cb8aab432184c6a44b62e5c017": {
          "model_module": "@jupyter-widgets/controls",
          "model_module_version": "1.5.0",
          "model_name": "FloatProgressModel",
          "state": {
            "_dom_classes": [],
            "_model_module": "@jupyter-widgets/controls",
            "_model_module_version": "1.5.0",
            "_model_name": "FloatProgressModel",
            "_view_count": null,
            "_view_module": "@jupyter-widgets/controls",
            "_view_module_version": "1.5.0",
            "_view_name": "ProgressView",
            "bar_style": "success",
            "description": "",
            "description_tooltip": null,
            "layout": "IPY_MODEL_670f498f88664a55b9407defd8753867",
            "max": 293,
            "min": 0,
            "orientation": "horizontal",
            "style": "IPY_MODEL_68d872fe6ec049548a483e9b18edbdf6",
            "value": 293
          }
        },
        "ad097aac770542d18898cf616d348ce9": {
          "model_module": "@jupyter-widgets/controls",
          "model_module_version": "1.5.0",
          "model_name": "DescriptionStyleModel",
          "state": {
            "_model_module": "@jupyter-widgets/controls",
            "_model_module_version": "1.5.0",
            "_model_name": "DescriptionStyleModel",
            "_view_count": null,
            "_view_module": "@jupyter-widgets/base",
            "_view_module_version": "1.2.0",
            "_view_name": "StyleView",
            "description_width": ""
          }
        },
        "dbd9345af21d4b2a8dba3d24b12720d7": {
          "model_module": "@jupyter-widgets/base",
          "model_module_version": "1.2.0",
          "model_name": "LayoutModel",
          "state": {
            "_model_module": "@jupyter-widgets/base",
            "_model_module_version": "1.2.0",
            "_model_name": "LayoutModel",
            "_view_count": null,
            "_view_module": "@jupyter-widgets/base",
            "_view_module_version": "1.2.0",
            "_view_name": "LayoutView",
            "align_content": null,
            "align_items": null,
            "align_self": null,
            "border": null,
            "bottom": null,
            "display": null,
            "flex": null,
            "flex_flow": null,
            "grid_area": null,
            "grid_auto_columns": null,
            "grid_auto_flow": null,
            "grid_auto_rows": null,
            "grid_column": null,
            "grid_gap": null,
            "grid_row": null,
            "grid_template_areas": null,
            "grid_template_columns": null,
            "grid_template_rows": null,
            "height": null,
            "justify_content": null,
            "justify_items": null,
            "left": null,
            "margin": null,
            "max_height": null,
            "max_width": null,
            "min_height": null,
            "min_width": null,
            "object_fit": null,
            "object_position": null,
            "order": null,
            "overflow": null,
            "overflow_x": null,
            "overflow_y": null,
            "padding": null,
            "right": null,
            "top": null,
            "visibility": null,
            "width": null
          }
        },
        "ecad23ae47534bdcbe4254b740e996f8": {
          "model_module": "@jupyter-widgets/base",
          "model_module_version": "1.2.0",
          "model_name": "LayoutModel",
          "state": {
            "_model_module": "@jupyter-widgets/base",
            "_model_module_version": "1.2.0",
            "_model_name": "LayoutModel",
            "_view_count": null,
            "_view_module": "@jupyter-widgets/base",
            "_view_module_version": "1.2.0",
            "_view_name": "LayoutView",
            "align_content": null,
            "align_items": null,
            "align_self": null,
            "border": null,
            "bottom": null,
            "display": null,
            "flex": null,
            "flex_flow": null,
            "grid_area": null,
            "grid_auto_columns": null,
            "grid_auto_flow": null,
            "grid_auto_rows": null,
            "grid_column": null,
            "grid_gap": null,
            "grid_row": null,
            "grid_template_areas": null,
            "grid_template_columns": null,
            "grid_template_rows": null,
            "height": null,
            "justify_content": null,
            "justify_items": null,
            "left": null,
            "margin": null,
            "max_height": null,
            "max_width": null,
            "min_height": null,
            "min_width": null,
            "object_fit": null,
            "object_position": null,
            "order": null,
            "overflow": null,
            "overflow_x": null,
            "overflow_y": null,
            "padding": null,
            "right": null,
            "top": null,
            "visibility": null,
            "width": null
          }
        },
        "f6b9de41f6fb4bf29f699ae5f53b0f87": {
          "model_module": "@jupyter-widgets/controls",
          "model_module_version": "1.5.0",
          "model_name": "DescriptionStyleModel",
          "state": {
            "_model_module": "@jupyter-widgets/controls",
            "_model_module_version": "1.5.0",
            "_model_name": "DescriptionStyleModel",
            "_view_count": null,
            "_view_module": "@jupyter-widgets/base",
            "_view_module_version": "1.2.0",
            "_view_name": "StyleView",
            "description_width": ""
          }
        },
        "fd6194fce855408387fcb0e14471264b": {
          "model_module": "@jupyter-widgets/controls",
          "model_module_version": "1.5.0",
          "model_name": "HTMLModel",
          "state": {
            "_dom_classes": [],
            "_model_module": "@jupyter-widgets/controls",
            "_model_module_version": "1.5.0",
            "_model_name": "HTMLModel",
            "_view_count": null,
            "_view_module": "@jupyter-widgets/controls",
            "_view_module_version": "1.5.0",
            "_view_name": "HTMLView",
            "description": "",
            "description_tooltip": null,
            "layout": "IPY_MODEL_7c6d78e0836944ba98c696be266cf2bc",
            "placeholder": "​",
            "style": "IPY_MODEL_ad097aac770542d18898cf616d348ce9",
            "value": " 293/293 [00:00&lt;00:00, 22.0kB/s]"
          }
        },
        "fe95d1bd5cb6495aa5b0cb0189b4295e": {
          "model_module": "@jupyter-widgets/controls",
          "model_module_version": "1.5.0",
          "model_name": "HTMLModel",
          "state": {
            "_dom_classes": [],
            "_model_module": "@jupyter-widgets/controls",
            "_model_module_version": "1.5.0",
            "_model_name": "HTMLModel",
            "_view_count": null,
            "_view_module": "@jupyter-widgets/controls",
            "_view_module_version": "1.5.0",
            "_view_name": "HTMLView",
            "description": "",
            "description_tooltip": null,
            "layout": "IPY_MODEL_26f08710e0464b1788d600fcba42ad89",
            "placeholder": "​",
            "style": "IPY_MODEL_2e43f7183b43451a859b0b70267d2d1b",
            "value": "Downloading (…)neration_config.json: 100%"
          }
        }
      }
    }
  },
  "nbformat": 4,
  "nbformat_minor": 0
}
